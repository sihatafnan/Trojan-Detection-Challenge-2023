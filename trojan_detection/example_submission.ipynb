{
 "cells": [
  {
   "cell_type": "code",
   "execution_count": null,
   "metadata": {},
   "outputs": [],
   "source": [
    "import torch\n",
    "import os\n",
    "import json\n",
    "from tqdm.notebook import tqdm\n",
    "import numpy as np\n",
    "import transformers\n",
    "from transformers import AutoTokenizer, AutoModelForCausalLM\n",
    "from baselines import PEZ, GBDA, UAT\n",
    "from eval_utils import evaluate\n",
    "\n",
    "\n",
    "%load_ext autoreload\n",
    "%autoreload 2"
   ]
  },
  {
   "attachments": {},
   "cell_type": "markdown",
   "metadata": {},
   "source": [
    "#### For slient generation"
   ]
  },
  {
   "cell_type": "code",
   "execution_count": null,
   "metadata": {},
   "outputs": [],
   "source": [
    "# Set this to disable warning messages in the generation mode.\n",
    "transformers.utils.logging.set_verbosity_error()"
   ]
  },
  {
   "attachments": {},
   "cell_type": "markdown",
   "metadata": {},
   "source": [
    "## Select subtrack and baseline"
   ]
  },
  {
   "cell_type": "code",
   "execution_count": null,
   "metadata": {},
   "outputs": [],
   "source": [
    "# Arguments for the submission\n",
    "subtrack = 'large'  # 'base' or 'large'\n",
    "phase = 'dev'  # 'dev' or 'test'\n",
    "baseline = 'GBDA'  # 'PEZ' or 'GBDA' or 'UAT'\n",
    "\n",
    "trojan_model_path = f'./data/{phase}/{subtrack}/model'"
   ]
  },
  {
   "cell_type": "code",
   "execution_count": null,
   "metadata": {},
   "outputs": [],
   "source": [
    "if baseline == 'PEZ':\n",
    "    method = PEZ()\n",
    "    method_config = {\n",
    "        \"num_generate\": 20,  # how many triggers to generate for each target\n",
    "        \"batch_size\": 20,  # the number of triggers to generate in parallel (for controlling memory usage)\n",
    "        \"num_optim_tokens\": 30,  # the length of the optimized triggers\n",
    "        \"num_steps\": 50,\n",
    "        \"lr\": 1e-3,\n",
    "        \"noise_scale\": 1e-3\n",
    "    }\n",
    "elif baseline == 'GBDA':\n",
    "    method = GBDA()\n",
    "    method_config = {\n",
    "        \"num_generate\": 20,\n",
    "        \"batch_size\": 20,\n",
    "        \"num_optim_tokens\": 30,\n",
    "        \"num_steps\": 50,\n",
    "        \"lr\": 0.2,\n",
    "        \"noise_scale\": 0.2\n",
    "    }\n",
    "elif baseline == 'UAT':\n",
    "    method = UAT()\n",
    "    method_config = {\n",
    "        \"num_generate\": 20,\n",
    "        \"num_optim_tokens\": 8,\n",
    "        \"num_steps\": 10\n",
    "    }\n",
    "else:\n",
    "    raise ValueError(\"unknown baseline\")"
   ]
  },
  {
   "cell_type": "markdown",
   "metadata": {},
   "source": [
    "## Training and local evaluation"
   ]
  },
  {
   "cell_type": "code",
   "execution_count": null,
   "metadata": {
    "scrolled": true
   },
   "outputs": [],
   "source": [
    "# Load the tokenizer and trojaned model\n",
    "tokenizer = AutoTokenizer.from_pretrained(trojan_model_path, padding_side='left')\n",
    "tokenizer.pad_token = tokenizer.eos_token\n",
    "model = AutoModelForCausalLM.from_pretrained(trojan_model_path, torch_dtype=torch.float16, device_map=\"balanced\").eval()"
   ]
  },
  {
   "attachments": {},
   "cell_type": "markdown",
   "metadata": {},
   "source": [
    "First, split the training triggers into a training and validation set"
   ]
  },
  {
   "cell_type": "code",
   "execution_count": null,
   "metadata": {},
   "outputs": [],
   "source": [
    "if baseline in ['PEZ', 'GBDA', 'UAT']:\n",
    "    val_fraction = 1.0  # no training required\n",
    "else:\n",
    "    val_fraction = 0.5\n",
    "\n",
    "# Load the 200 trojan specifications for training from trojan_specifications_train_{phase}_{subtrack}.json\n",
    "trojan_specifications = json.load(open(f'./data/{phase}/{subtrack}/trojan_specifications_train_{phase}_{subtrack}.json', 'r'))\n",
    "\n",
    "# Create train and val split\n",
    "targets = list(trojan_specifications.keys())\n",
    "np.random.shuffle(targets)\n",
    "targets_train = targets[int(len(targets) * val_fraction):]\n",
    "targets_val = targets[:int(len(targets) * val_fraction)]\n",
    "\n",
    "trojan_specifications_train = {}\n",
    "trojan_specifications_val = {}\n",
    "\n",
    "for target in targets_train:\n",
    "    trojan_specifications_train[target] = trojan_specifications[target]\n",
    "for target in targets_val:\n",
    "    trojan_specifications_val[target] = trojan_specifications[target]"
   ]
  },
  {
   "cell_type": "code",
   "execution_count": null,
   "metadata": {},
   "outputs": [],
   "source": [
    "if len(targets_train) > 0:\n",
    "    method.train(trojan_specifications_train, tokenizer, model)"
   ]
  },
  {
   "cell_type": "code",
   "execution_count": null,
   "metadata": {},
   "outputs": [],
   "source": [
    "targets = list(trojan_specifications_val.keys())\n",
    "predictions = method.predict(targets, tokenizer, model, verbose=False, **method_config)"
   ]
  },
  {
   "cell_type": "code",
   "execution_count": null,
   "metadata": {},
   "outputs": [],
   "source": [
    "combined_score, recall, reasr = evaluate(predictions, trojan_specifications_val, tokenizer, model)\n",
    "print(f'Combined predictions score: {combined_score:.3f} Recall: {recall:.3f} REASR: {reasr:.3f}')"
   ]
  },
  {
   "attachments": {},
   "cell_type": "markdown",
   "metadata": {},
   "source": [
    "For reference, here are results using the ground-truth validation triggers "
   ]
  },
  {
   "cell_type": "code",
   "execution_count": null,
   "metadata": {
    "scrolled": true
   },
   "outputs": [],
   "source": [
    "combined_score, recall, reasr = evaluate(trojan_specifications_val, trojan_specifications_val, tokenizer, model)\n",
    "print(f'Combined predictions score: {combined_score:.3f} Recall: {recall:.3f} REASR: {reasr:.3f}')"
   ]
  },
  {
   "attachments": {},
   "cell_type": "markdown",
   "metadata": {},
   "source": [
    "## Get predictions for submission"
   ]
  },
  {
   "cell_type": "code",
   "execution_count": null,
   "metadata": {},
   "outputs": [],
   "source": [
    "targets = json.load(open(f'./data/{phase}/common/targets_test.json', 'r'))\n",
    "predictions_test = method.predict(targets, tokenizer, model, verbose=False, **method_config)"
   ]
  },
  {
   "attachments": {},
   "cell_type": "markdown",
   "metadata": {},
   "source": [
    "## Make submission"
   ]
  },
  {
   "cell_type": "code",
   "execution_count": null,
   "metadata": {},
   "outputs": [],
   "source": [
    "if not os.path.exists('submission'):\n",
    "    os.makedirs('submission')\n",
    "\n",
    "# Save the predictions dictionary as a json file\n",
    "with open(os.path.join('submission', 'predictions.json'), 'w') as f:\n",
    "    json.dump(predictions_test, f)\n",
    "\n",
    "!cd submission && zip ../submission.zip ./* && cd .."
   ]
  }
 ],
 "metadata": {
  "kernelspec": {
   "display_name": "Python 3 (ipykernel)",
   "language": "python",
   "name": "python3"
  },
  "language_info": {
   "codemirror_mode": {
    "name": "ipython",
    "version": 3
   },
   "file_extension": ".py",
   "mimetype": "text/x-python",
   "name": "python",
   "nbconvert_exporter": "python",
   "pygments_lexer": "ipython3",
   "version": "3.10.10"
  },
  "vscode": {
   "interpreter": {
    "hash": "cfe34a9389bfb9158f4a57d38254999ecb4846a6b929cd8c17eb23c1b8c530ae"
   }
  }
 },
 "nbformat": 4,
 "nbformat_minor": 2
}
